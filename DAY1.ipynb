{
 "cells": [
  {
   "cell_type": "code",
   "execution_count": 1,
   "id": "69bad0fa-276a-4038-99af-013f5c2b687f",
   "metadata": {},
   "outputs": [
    {
     "name": "stdin",
     "output_type": "stream",
     "text": [
      "Enter the age 50\n"
     ]
    }
   ],
   "source": [
    "age=int(input(\"Enter the age\"))\n",
    "if age>=18 and age <=40:\n",
    "    print(\"You are Young Blood\")"
   ]
  },
  {
   "cell_type": "code",
   "execution_count": 3,
   "id": "a8ce1373-e89f-4d94-bc30-9123f89e899a",
   "metadata": {},
   "outputs": [
    {
     "data": {
      "text/plain": [
       "True"
      ]
     },
     "execution_count": 3,
     "metadata": {},
     "output_type": "execute_result"
    }
   ],
   "source": [
    "26>=18"
   ]
  },
  {
   "cell_type": "code",
   "execution_count": 3,
   "id": "41576ce3-3679-4a34-8ccb-a69ecb81b3fe",
   "metadata": {},
   "outputs": [
    {
     "name": "stdin",
     "output_type": "stream",
     "text": [
      "Enter the age 10\n"
     ]
    },
    {
     "name": "stdout",
     "output_type": "stream",
     "text": [
      "Thank you.We will let you know.\n"
     ]
    }
   ],
   "source": [
    "age=int(input(\"Enter the age\"))\n",
    "if age>=18 and age <=40:\n",
    "    print(\"You are Young Blood\")\n",
    "else:\n",
    "    print(\"Thank you.We will let you know.\")"
   ]
  },
  {
   "cell_type": "code",
   "execution_count": 12,
   "id": "da9b0aac-7140-4218-b6e7-986eeb8790fa",
   "metadata": {},
   "outputs": [
    {
     "name": "stdin",
     "output_type": "stream",
     "text": [
      "Enter the price  5000\n"
     ]
    },
    {
     "name": "stdout",
     "output_type": "stream",
     "text": [
      "The price of the product is 3000.0\n"
     ]
    }
   ],
   "source": [
    "product_price=int(input(\"Enter the price\"))\n",
    "if product_price>1000:\n",
    "    print(\"The price of the product is {}\".format(product_price*0.6))\n",
    "else:\n",
    "    print(\"The price of the product is {}\".format(product_price*0.9))"
   ]
  },
  {
   "cell_type": "code",
   "execution_count": 14,
   "id": "7455ec40-e501-499c-87fd-92eb81939d47",
   "metadata": {},
   "outputs": [
    {
     "name": "stdin",
     "output_type": "stream",
     "text": [
      "Enter the price 5000\n"
     ]
    },
    {
     "name": "stdout",
     "output_type": "stream",
     "text": [
      "The price of the product is 3000.0\n"
     ]
    }
   ],
   "source": [
    "product_price=int(input(\"Enter the price\"))\n",
    "if product_price>1000:\n",
    "    print(f\"The price of the product is {product_price*0.6}\")\n",
    "else:\n",
    "    print(\"The price of the product is {}\".format(product_price*0.9))"
   ]
  },
  {
   "cell_type": "code",
   "execution_count": 37,
   "id": "4a74c5f5-c849-4081-8825-d6cc16e3f636",
   "metadata": {},
   "outputs": [
    {
     "name": "stdin",
     "output_type": "stream",
     "text": [
      "Enter the price 2300\n"
     ]
    },
    {
     "name": "stdout",
     "output_type": "stream",
     "text": [
      "The price of the product is 1610.0\n"
     ]
    }
   ],
   "source": [
    "product_price=int(input(\"Enter the price\"))\n",
    "if product_price>5000:\n",
    "    if product_price == 5399:\n",
    "        print(\"you get an gift card\")\n",
    "    print(f\"The price of the product is {product_price*0.6}\")\n",
    "elif product_price>=2000 and product_price <3000:\n",
    "    if product_price==2999:\n",
    "        print(\"Congratulation!You get an amazing gift\")\n",
    "    print(f\"The price of the product is {product_price*0.7}\")\n",
    "elif product_price>=1000 and product_price <2000:\n",
    "          print(f\"The price of the product is {product_price*0.8}\")\n",
    "else:\n",
    "    print(\"The price of the product is {}\".format(product_price*0.9))\n",
    "    print(\"I will also be there. Have some tea\")"
   ]
  },
  {
   "cell_type": "code",
   "execution_count": null,
   "id": "42068eb8-9402-4990-97e8-02f4f9735406",
   "metadata": {},
   "outputs": [],
   "source": [
    "val=int(input('enter the number'))\n"
   ]
  },
  {
   "cell_type": "code",
   "execution_count": null,
   "id": "3bc10c96-5f5e-4569-a4bd-79ee8ad404b3",
   "metadata": {},
   "outputs": [],
   "source": []
  },
  {
   "cell_type": "code",
   "execution_count": null,
   "id": "8f57dff0-f231-44c1-9da1-7b01ab4dc7ab",
   "metadata": {},
   "outputs": [],
   "source": []
  }
 ],
 "metadata": {
  "kernelspec": {
   "display_name": "Python 3 (ipykernel)",
   "language": "python",
   "name": "python3"
  },
  "language_info": {
   "codemirror_mode": {
    "name": "ipython",
    "version": 3
   },
   "file_extension": ".py",
   "mimetype": "text/x-python",
   "name": "python",
   "nbconvert_exporter": "python",
   "pygments_lexer": "ipython3",
   "version": "3.10.8"
  }
 },
 "nbformat": 4,
 "nbformat_minor": 5
}
